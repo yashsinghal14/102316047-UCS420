{
 "cells": [
  {
   "cell_type": "markdown",
   "id": "f31eab02",
   "metadata": {},
   "source": [
    "**Assignment 10 CC By Yash Singhal(102316047)**"
   ]
  },
  {
   "cell_type": "markdown",
   "id": "3a0186f1",
   "metadata": {},
   "source": [
    "Q1. Write a unique paragraph (5-6 sentences) about your favorite topic (e.g., sports,\n",
    "technology, food, books, etc.).\n",
    "1. Convert text to lowercase and remove punctuaƟon using re.\n",
    "2. Tokenize the text into words and sentences.\n",
    "3. Split using split() and word_tokenize() and compare how Python split and NLTK’s\n",
    "word_tokenize() differ.\n",
    "4. Remove stopwords (using NLTK's stopwords list).\n",
    "5. Display word frequency distribuƟon (excluding stopwords).\n"
   ]
  },
  {
   "cell_type": "code",
   "execution_count": 62,
   "id": "306f8edf",
   "metadata": {},
   "outputs": [
    {
     "name": "stdout",
     "output_type": "stream",
     "text": [
      "Cleaned Text: artificial intelligence is transforming the world of technology rapidly it powers innovations like selfdriving cars recommendation systems and smart assistants the core of ai involves machine learning which allows systems to learn from data ai is widely used in healthcare finance and entertainment as ai evolves ethical concerns and regulations are becoming increasingly important\n",
      "Split(): ['artificial', 'intelligence', 'is', 'transforming', 'the', 'world', 'of', 'technology', 'rapidly', 'it', 'powers', 'innovations', 'like', 'selfdriving', 'cars', 'recommendation', 'systems', 'and', 'smart', 'assistants', 'the', 'core', 'of', 'ai', 'involves', 'machine', 'learning', 'which', 'allows', 'systems', 'to', 'learn', 'from', 'data', 'ai', 'is', 'widely', 'used', 'in', 'healthcare', 'finance', 'and', 'entertainment', 'as', 'ai', 'evolves', 'ethical', 'concerns', 'and', 'regulations', 'are', 'becoming', 'increasingly', 'important']\n",
      "word_tokenize(): ['artificial', 'intelligence', 'is', 'transforming', 'the', 'world', 'of', 'technology', 'rapidly', 'it', 'powers', 'innovations', 'like', 'selfdriving', 'cars', 'recommendation', 'systems', 'and', 'smart', 'assistants', 'the', 'core', 'of', 'ai', 'involves', 'machine', 'learning', 'which', 'allows', 'systems', 'to', 'learn', 'from', 'data', 'ai', 'is', 'widely', 'used', 'in', 'healthcare', 'finance', 'and', 'entertainment', 'as', 'ai', 'evolves', 'ethical', 'concerns', 'and', 'regulations', 'are', 'becoming', 'increasingly', 'important']\n",
      "Filtered Words: ['artificial', 'intelligence', 'transforming', 'world', 'technology', 'rapidly', 'powers', 'innovations', 'like', 'selfdriving', 'cars', 'recommendation', 'systems', 'smart', 'assistants', 'core', 'ai', 'involves', 'machine', 'learning', 'allows', 'systems', 'learn', 'data', 'ai', 'widely', 'used', 'healthcare', 'finance', 'entertainment', 'ai', 'evolves', 'ethical', 'concerns', 'regulations', 'becoming', 'increasingly', 'important']\n",
      "Word Frequency: Counter({'ai': 3, 'systems': 2, 'artificial': 1, 'intelligence': 1, 'transforming': 1, 'world': 1, 'technology': 1, 'rapidly': 1, 'powers': 1, 'innovations': 1, 'like': 1, 'selfdriving': 1, 'cars': 1, 'recommendation': 1, 'smart': 1, 'assistants': 1, 'core': 1, 'involves': 1, 'machine': 1, 'learning': 1, 'allows': 1, 'learn': 1, 'data': 1, 'widely': 1, 'used': 1, 'healthcare': 1, 'finance': 1, 'entertainment': 1, 'evolves': 1, 'ethical': 1, 'concerns': 1, 'regulations': 1, 'becoming': 1, 'increasingly': 1, 'important': 1})\n"
     ]
    },
    {
     "name": "stderr",
     "output_type": "stream",
     "text": [
      "[nltk_data] Downloading package punkt to\n",
      "[nltk_data]     C:\\Users\\yashs\\AppData\\Roaming\\nltk_data...\n",
      "[nltk_data]   Package punkt is already up-to-date!\n",
      "[nltk_data] Downloading package stopwords to\n",
      "[nltk_data]     C:\\Users\\yashs\\AppData\\Roaming\\nltk_data...\n",
      "[nltk_data]   Package stopwords is already up-to-date!\n"
     ]
    }
   ],
   "source": [
    "import re\n",
    "import nltk\n",
    "from nltk.tokenize import word_tokenize, sent_tokenize\n",
    "from nltk.corpus import stopwords\n",
    "from collections import Counter\n",
    "nltk.download('punkt')\n",
    "nltk.download('stopwords')\n",
    "\n",
    "paragraph = \"\"\"Artificial Intelligence is transforming the world of technology rapidly. It powers innovations like self-driving cars, recommendation systems, and smart assistants. The core of AI involves machine learning, which allows systems to learn from data. AI is widely used in healthcare, finance, and entertainment. As AI evolves, ethical concerns and regulations are becoming increasingly important.\"\"\"\n",
    "\n",
    "# 1. Lowercase and remove punctuation\n",
    "text_clean = re.sub(r'[^\\w\\s]', '', paragraph.lower())\n",
    "print(\"Cleaned Text:\", text_clean)\n",
    "\n",
    "# 2. Tokenize sentences and words\n",
    "sent_tokens = sent_tokenize(paragraph)\n",
    "word_tokens_nltk = word_tokenize(text_clean)\n",
    "word_tokens_split = text_clean.split()\n",
    "\n",
    "# 3. Compare split() vs word_tokenize()\n",
    "print(\"Split():\", word_tokens_split)\n",
    "print(\"word_tokenize():\", word_tokens_nltk)\n",
    "\n",
    "# 4. Remove stopwords\n",
    "stop_words = set(stopwords.words('english'))\n",
    "filtered_words = [word for word in word_tokens_nltk if word not in stop_words]\n",
    "print(\"Filtered Words:\", filtered_words)\n",
    "\n",
    "# 5. Word Frequency Distribution\n",
    "freq_dist = Counter(filtered_words)\n",
    "print(\"Word Frequency:\", freq_dist)\n"
   ]
  },
  {
   "cell_type": "markdown",
   "id": "d8d593d9",
   "metadata": {},
   "source": [
    "Q2. Using the same paragraph from Q1:\n",
    "1. Extract all words with only alphabets using re.findall()\n",
    "2. Remove stop words using NLTK’s stopword list\n",
    "3. Perform stemming with PorterStemmer\n",
    "4. Perform lemmaƟzaƟon with WordNetLemmaƟzer\n",
    "5. Compare the stemmed and lemmaƟzed outputs and explain when you’d prefer one over\n",
    "the other. "
   ]
  },
  {
   "cell_type": "code",
   "execution_count": null,
   "id": "83bbac7d",
   "metadata": {},
   "outputs": [
    {
     "name": "stderr",
     "output_type": "stream",
     "text": [
      "[nltk_data] Downloading package wordnet to\n",
      "[nltk_data]     C:\\Users\\yashs\\AppData\\Roaming\\nltk_data...\n",
      "[nltk_data]   Package wordnet is already up-to-date!\n"
     ]
    },
    {
     "name": "stdout",
     "output_type": "stream",
     "text": [
      "Stemmed: ['artifici', 'intellig', 'transform', 'world', 'technolog', 'rapidli', 'power', 'innov', 'like', 'selfdriv', 'car', 'recommend', 'system', 'smart', 'assist', 'core', 'ai', 'involv', 'machin', 'learn', 'allow', 'system', 'learn', 'data', 'ai', 'wide', 'use', 'healthcar', 'financ', 'entertain', 'ai', 'evolv', 'ethic', 'concern', 'regul', 'becom', 'increasingli', 'import']\n",
      "Lemmatized: ['artificial', 'intelligence', 'transforming', 'world', 'technology', 'rapidly', 'power', 'innovation', 'like', 'selfdriving', 'car', 'recommendation', 'system', 'smart', 'assistant', 'core', 'ai', 'involves', 'machine', 'learning', 'allows', 'system', 'learn', 'data', 'ai', 'widely', 'used', 'healthcare', 'finance', 'entertainment', 'ai', 'evolves', 'ethical', 'concern', 'regulation', 'becoming', 'increasingly', 'important']\n"
     ]
    }
   ],
   "source": [
    "from nltk.stem import PorterStemmer, WordNetLemmatizer\n",
    "nltk.download('wordnet')\n",
    "\n",
    "# 1. Extract alphabet-only words\n",
    "words_alpha = re.findall(r'\\b[a-zA-Z]+\\b', text_clean)\n",
    "\n",
    "# 2. Remove stopwords again\n",
    "filtered_alpha = [word for word in words_alpha if word not in stop_words]\n",
    "\n",
    "# 3. Stemming\n",
    "stemmer = PorterStemmer()\n",
    "stemmed_words = [stemmer.stem(word) for word in filtered_alpha]\n",
    "\n",
    "# 4. Lemmatization\n",
    "lemmatizer = WordNetLemmatizer()\n",
    "lemmatized_words = [lemmatizer.lemmatize(word) for word in filtered_alpha]\n",
    "\n",
    "# 5. Comparison\n",
    "print(\"Stemmed:\", stemmed_words)\n",
    "print(\"Lemmatized:\", lemmatized_words)\n"
   ]
  },
  {
   "cell_type": "markdown",
   "id": "e2eef14f",
   "metadata": {},
   "source": [
    "Q3. Choose 3 short texts of your own (e.g., different news headlines, product reviews).\n",
    "1. Use CountVectorizer to generate the Bag of Words representaƟon.\n",
    "2. Use TfidfVectorizer to compute TF-IDF scores.\n",
    "3. Print and interpret the top 3 keywords from each text using TF-IDF. "
   ]
  },
  {
   "cell_type": "code",
   "execution_count": 3,
   "id": "f333dcd0",
   "metadata": {},
   "outputs": [
    {
     "name": "stdout",
     "output_type": "stream",
     "text": [
      "BoW Features:\n",
      " ['apple' 'at' 'battery' 'better' 'camera' 'cost' 'great' 'has' 'iphone'\n",
      " 'latest' 'life' 'lower' 'new' 'offers' 'oneplus' 'performance' 'phone'\n",
      " 'powerful' 'samsung' 'unveils' 'with']\n",
      "Text 1 Top Keywords: ['with', 'unveils', 'iphone']\n",
      "Text 2 Top Keywords: ['samsung', 'powerful', 'camera']\n",
      "Text 3 Top Keywords: ['cost', 'lower', 'offers']\n"
     ]
    }
   ],
   "source": [
    "from sklearn.feature_extraction.text import CountVectorizer, TfidfVectorizer\n",
    "\n",
    "texts = [\n",
    "    \"Apple unveils new iPhone with better battery life.\",\n",
    "    \"Samsung's latest phone has a powerful camera.\",\n",
    "    \"OnePlus phone offers great performance at lower cost.\"\n",
    "]\n",
    "\n",
    "# 1. Bag of Words\n",
    "cv = CountVectorizer()\n",
    "bow = cv.fit_transform(texts)\n",
    "print(\"BoW Features:\\n\", cv.get_feature_names_out())\n",
    "\n",
    "# 2. TF-IDF\n",
    "tfidf = TfidfVectorizer()\n",
    "tfidf_matrix = tfidf.fit_transform(texts)\n",
    "\n",
    "# 3. Top 3 keywords\n",
    "import numpy as np\n",
    "\n",
    "for i, text in enumerate(texts):\n",
    "    scores = tfidf_matrix[i].toarray().flatten()\n",
    "    top_indices = np.argsort(scores)[-3:][::-1]\n",
    "    top_words = [tfidf.get_feature_names_out()[j] for j in top_indices]\n",
    "    print(f\"Text {i+1} Top Keywords: {top_words}\")\n"
   ]
  },
  {
   "cell_type": "markdown",
   "id": "9b7b00a8",
   "metadata": {},
   "source": [
    "Q4. Write 2 short texts (4–6 lines each) describing two different technologies (e.g., AI vs\n",
    "Blockchain).\n",
    "1. Preprocess and tokenize both texts.\n",
    "2. Calculate:\n",
    "a. Jaccard Similarity using sets\n",
    "b. Cosine Similarity using TfidfVectorizer + cosine_similarity()\n",
    "c. Analyze which similarity metric gives beƩer insights in your case.\n"
   ]
  },
  {
   "cell_type": "code",
   "execution_count": 4,
   "id": "bbc2f123",
   "metadata": {},
   "outputs": [
    {
     "name": "stdout",
     "output_type": "stream",
     "text": [
      "Jaccard Similarity: 0.0\n",
      "Cosine Similarity: 0.0\n"
     ]
    }
   ],
   "source": [
    "from sklearn.metrics.pairwise import cosine_similarity\n",
    "import numpy as np\n",
    "\n",
    "text1 = \"Artificial Intelligence is changing the future of human interaction.\"\n",
    "text2 = \"Blockchain ensures secure transactions and decentralized storage.\"\n",
    "\n",
    "# 1. Preprocess\n",
    "def preprocess(text):\n",
    "    text = re.sub(r'[^\\w\\s]', '', text.lower())\n",
    "    return set(word_tokenize(text))\n",
    "\n",
    "set1, set2 = preprocess(text1), preprocess(text2)\n",
    "\n",
    "# 2a. Jaccard Similarity\n",
    "jaccard = len(set1 & set2) / len(set1 | set2)\n",
    "print(\"Jaccard Similarity:\", jaccard)\n",
    "\n",
    "# 2b. Cosine Similarity\n",
    "tfidf = TfidfVectorizer()\n",
    "tfidf_vectors = tfidf.fit_transform([text1, text2])\n",
    "cosine = cosine_similarity(tfidf_vectors[0], tfidf_vectors[1])[0][0]\n",
    "print(\"Cosine Similarity:\", cosine)\n"
   ]
  },
  {
   "cell_type": "markdown",
   "id": "1b67d91d",
   "metadata": {},
   "source": [
    "Q5. Write a short review for a product or service.\n",
    "1. Use TextBlob or VADER to find polarity & subjecƟvity for each review.\n",
    "2. Classify reviews into PosiƟve / NegaƟve / Neutral.\n",
    "3. Create a word cloud using the wordcloud library for all posiƟve reviews.\n"
   ]
  },
  {
   "cell_type": "code",
   "execution_count": 30,
   "id": "beff3998",
   "metadata": {},
   "outputs": [
    {
     "name": "stdout",
     "output_type": "stream",
     "text": [
      "Polarity: 1.0\n",
      "Subjectivity: 1.0\n",
      "Sentiment: Positive\n"
     ]
    },
    {
     "data": {
      "image/png": "[encoded data removed]",
      "text/plain": [
       "<Figure size 640x480 with 1 Axes>"
      ]
     },
     "metadata": {},
     "output_type": "display_data"
    }
   ],
   "source": [
    "from textblob import TextBlob\n",
    "from wordcloud import WordCloud\n",
    "import matplotlib.pyplot as plt\n",
    "\n",
    "review = \"The camera quality is excellent, and battery lasts all day.\"\n",
    "\n",
    "# 1. Sentiment\n",
    "blob = TextBlob(review)\n",
    "print(\"Polarity:\", blob.sentiment.polarity)\n",
    "print(\"Subjectivity:\", blob.sentiment.subjectivity)\n",
    "\n",
    "# 2. Classification\n",
    "if blob.sentiment.polarity > 0.1:\n",
    "    sentiment = \"Positive\"\n",
    "elif blob.sentiment.polarity < -0.1:\n",
    "    sentiment = \"Negative\"\n",
    "else:\n",
    "    sentiment = \"Neutral\"\n",
    "print(\"Sentiment:\", sentiment)\n",
    "\n",
    "# 3. WordCloud (for positive reviews)\n",
    "if sentiment == \"Positive\":\n",
    "    wc = WordCloud(width=500, height=300, background_color='white').generate(review)\n",
    "    plt.imshow(wc, interpolation='bilinear')\n",
    "    plt.axis('off')\n",
    "    plt.title(\"Word Cloud - Positive Review\")\n",
    "    plt.show()\n"
   ]
  },
  {
   "cell_type": "markdown",
   "id": "8ad508d9",
   "metadata": {},
   "source": [
    "Q6. Choose your own paragraph (~100 words) as training data.\n",
    "1. Tokenize text using Tokenizer() from keras.preprocessing.text\n",
    "2. Create input sequences and build a simple LSTM or Dense model\n",
    "3. Train the model and generate 2–3 new lines of text starƟng from any seed word you\n",
    "provide. "
   ]
  },
  {
   "cell_type": "code",
   "execution_count": null,
   "id": "2f6f834f",
   "metadata": {},
   "outputs": [],
   "source": [
    "import tensorflow as tf\n",
    "from tensorflow.keras.preprocessing.text import Tokenizer\n",
    "from tensorflow.keras.preprocessing.sequence import pad_sequences\n",
    "from tensorflow.keras.models import Sequential\n",
    "from tensorflow.keras.layers import Embedding, LSTM, Dense\n",
    "import numpy as np\n",
    "\n",
    "# Sample text data\n",
    "text = \"\"\"Artificial Intelligence is a fascinating field. It is growing rapidly. \n",
    "AI helps automate tasks and improve productivity. \n",
    "Deep learning and neural networks are key aspects. \n",
    "It is used in various industries.\"\"\"\n",
    "\n",
    "# 1. Tokenization\n",
    "tokenizer = Tokenizer()\n",
    "tokenizer.fit_on_texts([text])\n",
    "total_words = len(tokenizer.word_index) + 1\n",
    "\n",
    "# 2. Creating n-gram sequences\n",
    "input_sequences = []\n",
    "words = text.lower().split()\n",
    "for i in range(1, len(words)):\n",
    "    n_gram_sequence = words[:i+1]\n",
    "    sequence = tokenizer.texts_to_sequences([' '.join(n_gram_sequence)])[0]\n",
    "    input_sequences.append(sequence)\n",
    "\n",
    "# Padding sequence\n",
    "max_len = max(len(seq) for seq in input_sequences)\n",
    "input_sequences = pad_sequences(input_sequences, maxlen=max_len, padding='pre')\n",
    "\n",
    "X = input_sequences[:, :-1]\n",
    "y = input_sequences[:, -1]\n",
    "\n",
    "# 3. Model definition\n",
    "model = Sequential([\n",
    "    Embedding(input_dim=total_words, output_dim=10, input_length=max_len - 1),\n",
    "    LSTM(50),\n",
    "    Dense(total_words, activation='softmax')\n",
    "])\n",
    "\n",
    "model.compile(loss='sparse_categorical_crossentropy', optimizer='adam', metrics=['accuracy'])\n",
    "model.fit(X, y, epochs=200, verbose=0)\n",
    "\n",
    "# 4. Generate new text\n",
    "seed = \"ai\"\n",
    "for _ in range(5):\n",
    "    token_seq = tokenizer.texts_to_sequences([seed])[0]\n",
    "    token_seq = pad_sequences([token_seq], maxlen=max_len - 1, padding='pre')\n",
    "    predicted_probs = model.predict(token_seq, verbose=0)\n",
    "    predicted_index = np.argmax(predicted_probs)\n",
    "    next_word = tokenizer.index_word.get(predicted_index, '')\n",
    "    seed += \" \" + next_word\n",
    "\n",
    "print(\"Generated Text:\", seed)\n"
   ]
  },
  {
   "cell_type": "markdown",
   "id": "905893ae",
   "metadata": {},
   "source": [
    "Generated Text: ai is is is is is"
   ]
  }
 ],
 "metadata": {
  "kernelspec": {
   "display_name": "Python 3",
   "language": "python",
   "name": "python3"
  },
  "language_info": {
   "codemirror_mode": {
    "name": "ipython",
    "version": 3
   },
   "file_extension": ".py",
   "mimetype": "text/x-python",
   "name": "python",
   "nbconvert_exporter": "python",
   "pygments_lexer": "ipython3",
   "version": "3.12.10"
  }
 },
 "nbformat": 4,
 "nbformat_minor": 5
}
