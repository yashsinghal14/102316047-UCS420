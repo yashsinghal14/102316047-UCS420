{
 "cells": [
  {
   "cell_type": "markdown",
   "metadata": {},
   "source": [
    "**Assignment 4 CC By Yash Singhal(102316047)**"
   ]
  },
  {
   "cell_type": "markdown",
   "metadata": {},
   "source": [
    "Q.1 Write a program to create a NumPy 1D-array with 5 elements and perform basic\n",
    "operations like:\n",
    "a) Addition of 2 in all the element\n",
    "b) Multiply 3 with all the elements\n",
    "c) Divide every element by 2"
   ]
  },
  {
   "cell_type": "code",
   "execution_count": 1,
   "metadata": {},
   "outputs": [
    {
     "name": "stdout",
     "output_type": "stream",
     "text": [
      "Original Array: [1 2 3 4 5]\n",
      "After adding 2: [3 4 5 6 7]\n",
      "After multiplying by 3: [ 3  6  9 12 15]\n",
      "After dividing by 2: [0.5 1.  1.5 2.  2.5]\n"
     ]
    }
   ],
   "source": [
    "import numpy as np\n",
    "\n",
    "# Q1: \n",
    "arr = np.array([1, 2, 3, 4, 5])\n",
    "print(\"Original Array:\", arr)\n",
    "\n",
    "# a) \n",
    "arr_add = arr + 2\n",
    "print(\"After adding 2:\", arr_add)\n",
    "\n",
    "# b) \n",
    "arr_mul = arr * 3\n",
    "print(\"After multiplying by 3:\", arr_mul)\n",
    "\n",
    "# c) \n",
    "arr_div = arr / 2\n",
    "print(\"After dividing by 2:\", arr_div)"
   ]
  },
  {
   "cell_type": "markdown",
   "metadata": {},
   "source": [
    "Q.2 Questions on Basic NumPy Array:\n",
    "a) Reverse the NumPy array: arr = np.array([1, 2, 3, 6, 4, 5])\n",
    "b) Find the most frequent value and their indice(s) in the following arrays:\n",
    "i. x = np.array([1,2,3,4,5,1,2,1,1,1])\n",
    "ii. y = np.array([1, 1, 1, 2, 3, 4, 2, 4, 3, 3, ])"
   ]
  },
  {
   "cell_type": "code",
   "execution_count": 2,
   "metadata": {},
   "outputs": [
    {
     "name": "stdout",
     "output_type": "stream",
     "text": [
      "Reversed Array: [5 4 6 3 2 1]\n",
      "Most frequent value in x: 1, Indices: [0 5 7 8 9]\n",
      "Most frequent value in y: 1, Indices: [0 1 2]\n"
     ]
    }
   ],
   "source": [
    "# Q2: \n",
    "# a) \n",
    "arr2 = np.array([1, 2, 3, 6, 4, 5])\n",
    "arr_rev = arr2[::-1]\n",
    "print(\"Reversed Array:\", arr_rev)\n",
    "\n",
    "# b) \n",
    "def most_frequent(arr):\n",
    "    vals, counts = np.unique(arr, return_counts=True)\n",
    "    max_count = np.max(counts)\n",
    "    most_frequent_value = vals[np.argmax(counts)]\n",
    "    indices = np.where(arr == most_frequent_value)[0]\n",
    "    return most_frequent_value, indices\n",
    "\n",
    "x = np.array([1, 2, 3, 4, 5, 1, 2, 1, 1, 1])\n",
    "y = np.array([1, 1, 1, 2, 3, 4, 2, 4, 3, 3])\n",
    "\n",
    "x_value, x_indices = most_frequent(x)\n",
    "y_value, y_indices = most_frequent(y)\n",
    "\n",
    "print(f\"Most frequent value in x: {x_value}, Indices: {x_indices}\")\n",
    "print(f\"Most frequent value in y: {y_value}, Indices: {y_indices}\")\n"
   ]
  },
  {
   "cell_type": "markdown",
   "metadata": {},
   "source": [
    "Q.3 For the given 2-D array arr=np.array([10, 20, 30], [40, 50, 60], [70, 80, 90]), access\n",
    "elements using row and column indices as follows:\n",
    "a) Access 1st row, 2nd column\n",
    "b) Access 3rd row, 1st column"
   ]
  },
  {
   "cell_type": "code",
   "execution_count": 3,
   "metadata": {},
   "outputs": [
    {
     "name": "stdout",
     "output_type": "stream",
     "text": [
      "Element at (1st row, 2nd column): 20\n",
      "Element at (3rd row, 1st column): 70\n"
     ]
    }
   ],
   "source": [
    "# Q3: \n",
    "a_arr = np.array([[10, 20, 30], [40, 50, 60], [70, 80, 90]])\n",
    "print(\"Element at (1st row, 2nd column):\", a_arr[0, 1])\n",
    "print(\"Element at (3rd row, 1st column):\", a_arr[2, 0])\n"
   ]
  },
  {
   "cell_type": "markdown",
   "metadata": {},
   "source": [
    "Q.4 Write program to create an 1-D NumPy array named <<Your Name>> with evenly\n",
    "spaced 25 numbers from 10 to 100 using linspace(). Print the dimensions of the array,\n",
    "shape, total elements, the data type of each element and total number of bytes consumed\n",
    "by the array. Find the transpose of this array using reshape() attribute. Can we do the same\n",
    "with T attribute?"
   ]
  },
  {
   "cell_type": "code",
   "execution_count": 5,
   "metadata": {},
   "outputs": [
    {
     "name": "stdout",
     "output_type": "stream",
     "text": [
      "Array: [ 10.    13.75  17.5   21.25  25.    28.75  32.5   36.25  40.    43.75\n",
      "  47.5   51.25  55.    58.75  62.5   66.25  70.    73.75  77.5   81.25\n",
      "  85.    88.75  92.5   96.25 100.  ]\n",
      "Dimensions: 1\n",
      "Shape: (25,)\n",
      "Total elements: 25\n",
      "Data type: float64\n",
      "Total bytes consumed: 200\n",
      "Transposed Array using reshape():\n",
      " [[ 10.  ]\n",
      " [ 13.75]\n",
      " [ 17.5 ]\n",
      " [ 21.25]\n",
      " [ 25.  ]\n",
      " [ 28.75]\n",
      " [ 32.5 ]\n",
      " [ 36.25]\n",
      " [ 40.  ]\n",
      " [ 43.75]\n",
      " [ 47.5 ]\n",
      " [ 51.25]\n",
      " [ 55.  ]\n",
      " [ 58.75]\n",
      " [ 62.5 ]\n",
      " [ 66.25]\n",
      " [ 70.  ]\n",
      " [ 73.75]\n",
      " [ 77.5 ]\n",
      " [ 81.25]\n",
      " [ 85.  ]\n",
      " [ 88.75]\n",
      " [ 92.5 ]\n",
      " [ 96.25]\n",
      " [100.  ]]\n",
      "Transpose using T attribute: [ 10.    13.75  17.5   21.25  25.    28.75  32.5   36.25  40.    43.75\n",
      "  47.5   51.25  55.    58.75  62.5   66.25  70.    73.75  77.5   81.25\n",
      "  85.    88.75  92.5   96.25 100.  ]\n"
     ]
    }
   ],
   "source": [
    "# Q4: \n",
    "yash = np.linspace(10, 100, 25)\n",
    "print(\"Array:\", yash)\n",
    "print(\"Dimensions:\", yash.ndim)\n",
    "print(\"Shape:\", yash.shape)\n",
    "print(\"Total elements:\", yash.size)\n",
    "print(\"Data type:\", yash.dtype)\n",
    "print(\"Total bytes consumed:\", yash.nbytes)\n",
    "\n",
    "# Transpose \n",
    "transposed_array = yash.reshape(25, 1)\n",
    "print(\"Transposed Array using reshape():\\n\", transposed_array)\n",
    "\n",
    "# Using T attribute \n",
    "print(\"Transpose using T attribute:\", yash.T)\n"
   ]
  },
  {
   "cell_type": "markdown",
   "metadata": {},
   "source": [
    "Q5. Create a 2-D Array of three rows and four columns, named ucs420_<your_name>>\n",
    "with following values – 10, 20, 30, 40, 50, 60, 70, 80, 90, 15, 20, 35. Compute the mean,\n",
    "median, max, min, unique elements. Reshape the array to four rows and three columns and\n",
    "name it as reshaped_ ucs420_<your_name>>. Resize the array to two rows and three\n",
    "columns and name it as resized_ ucs420_<your_name>>."
   ]
  },
  {
   "cell_type": "code",
   "execution_count": 6,
   "metadata": {},
   "outputs": [
    {
     "name": "stdout",
     "output_type": "stream",
     "text": [
      "Mean: 43.333333333333336\n",
      "Median: 37.5\n",
      "Max: 90\n",
      "Min: 10\n",
      "Unique Elements: [10 15 20 30 35 40 50 60 70 80 90]\n",
      "Reshaped Array (4x3):\n",
      " [[10 20 30]\n",
      " [40 50 60]\n",
      " [70 80 90]\n",
      " [15 20 35]]\n",
      "Resized Array (2x3):\n",
      " [[10 20 30]\n",
      " [40 50 60]]\n"
     ]
    }
   ],
   "source": [
    "# Q5: \n",
    "ucs420_yash = np.array([[10, 20, 30, 40], [50, 60, 70, 80], [90, 15, 20, 35]])\n",
    "print(\"Mean:\", np.mean(ucs420_yash))\n",
    "print(\"Median:\", np.median(ucs420_yash))\n",
    "print(\"Max:\", np.max(ucs420_yash))\n",
    "print(\"Min:\", np.min(ucs420_yash))\n",
    "print(\"Unique Elements:\", np.unique(ucs420_yash))\n",
    "\n",
    "# Reshape to 4x3\n",
    "reshaped_ucs420_yash = ucs420_yash.reshape(4, 3)\n",
    "print(\"Reshaped Array (4x3):\\n\", reshaped_ucs420_yash)\n",
    "\n",
    "# Resize to 2x3\n",
    "resized_ucs420_yash = np.resize(ucs420_yash, (2, 3))\n",
    "print(\"Resized Array (2x3):\\n\", resized_ucs420_yash)\n"
   ]
  }
 ],
 "metadata": {
  "kernelspec": {
   "display_name": "Python 3",
   "language": "python",
   "name": "python3"
  },
  "language_info": {
   "codemirror_mode": {
    "name": "ipython",
    "version": 3
   },
   "file_extension": ".py",
   "mimetype": "text/x-python",
   "name": "python",
   "nbconvert_exporter": "python",
   "pygments_lexer": "ipython3",
   "version": "3.12.8"
  }
 },
 "nbformat": 4,
 "nbformat_minor": 2
}
