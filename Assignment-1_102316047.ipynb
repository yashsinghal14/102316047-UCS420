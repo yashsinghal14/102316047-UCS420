{
  "cells": [
    {
      "cell_type": "markdown",
      "metadata": {
        "id": "njN3ivazXTg4"
      },
      "source": [
        "**Assignment 1 CC By Yash Singhal(102316047)**"
      ]
    },
    {
      "cell_type": "markdown",
      "metadata": {
        "id": "acb5Z8PhXPU2"
      },
      "source": [
        "Assingment 1.1: WAP to print your name three times"
      ]
    },
    {
      "cell_type": "code",
      "execution_count": null,
      "metadata": {
        "id": "H8Jj612VXmAC"
      },
      "outputs": [],
      "source": [
        "# Assignment 1.1: Print your name three times\n",
        "name = \"Yash Singhal\"\n",
        "for _ in range(3):\n",
        "    print(name)\n"
      ]
    },
    {
      "cell_type": "markdown",
      "metadata": {
        "id": "NpneiZ4XaInB"
      },
      "source": [
        "Assingment 2.1: WAP to add three numbers and print the result.\n",
        "\n",
        "Assingment 2.2: WAP to concatinate three strings and print the result."
      ]
    },
    {
      "cell_type": "code",
      "execution_count": null,
      "metadata": {
        "id": "VStd5t8jaa4z"
      },
      "outputs": [],
      "source": [
        "\n",
        "# Assingment 2.1: WAP to add three numbers and print the result.\n",
        "num1 = 10\n",
        "num2 = 20\n",
        "num3 = 30\n",
        "sum_result = num1 + num2 + num3\n",
        "print(f\"The sum of {num1}, {num2}, and {num3} is: {sum_result}\")\n",
        "\n",
        "# Assingment 2.2: WAP to concatinate three strings and print the result.\n",
        "str1 = \"Hello\"\n",
        "str2 = \"World\"\n",
        "str3 = \"!\"\n",
        "concat_result = str1 + str2 + str3\n",
        "print(f\"The concatenation of '{str1}', '{str2}', and '{str3}' is: {concat_result}\")"
      ]
    },
    {
      "cell_type": "markdown",
      "metadata": {
        "id": "auEwNgICbsBC"
      },
      "source": [
        "Assingment 4.1: WAP to print the table of 7, 9.\n",
        "\n",
        "Assingment 4.2: WAP to print the table of n and n is given by user.\n",
        "\n",
        "Assingment 4.3: WAP to add all the numbers from 1 to n and n is given by user.\n"
      ]
    },
    {
      "cell_type": "code",
      "execution_count": null,
      "metadata": {
        "colab": {
          "background_save": true,
          "base_uri": "https://localhost:8080/"
        },
        "id": "E4hIWctvb4GK",
        "outputId": "1f9881c5-0a40-4052-f7bc-e4add4ba6dfa"
      },
      "outputs": [
        {
          "name": "stdout",
          "output_type": "stream",
          "text": [
            "Table of 7:\n",
            "7 x 1 = 7\n",
            "7 x 2 = 14\n",
            "7 x 3 = 21\n",
            "7 x 4 = 28\n",
            "7 x 5 = 35\n",
            "7 x 6 = 42\n",
            "7 x 7 = 49\n",
            "7 x 8 = 56\n",
            "7 x 9 = 63\n",
            "7 x 10 = 70\n",
            "\n",
            "Table of 9:\n",
            "9 x 1 = 9\n",
            "9 x 2 = 18\n",
            "9 x 3 = 27\n",
            "9 x 4 = 36\n",
            "9 x 5 = 45\n",
            "9 x 6 = 54\n",
            "9 x 7 = 63\n",
            "9 x 8 = 72\n",
            "9 x 9 = 81\n",
            "9 x 10 = 90\n",
            "\n",
            "Table of 6:\n",
            "6 x 1 = 6\n",
            "6 x 2 = 12\n",
            "6 x 3 = 18\n",
            "6 x 4 = 24\n",
            "6 x 5 = 30\n",
            "6 x 6 = 36\n",
            "6 x 7 = 42\n",
            "6 x 8 = 48\n",
            "6 x 9 = 54\n",
            "6 x 10 = 60\n"
          ]
        }
      ],
      "source": [
        "# Assignment 4.1: WAP to print the table of 7, 9\n",
        "# Table of 7\n",
        "print(\"Table of 7:\")\n",
        "for i in range(1, 11):\n",
        "    print(\"7 x\", i, \"=\", 7 * i)\n",
        "\n",
        "# Table of 9\n",
        "print(\"\\nTable of 9:\")\n",
        "for i in range(1, 11):\n",
        "    print(\"9 x\", i, \"=\", 9 * i)\n",
        "\n",
        "# Assignment 4.2: WAP to print the table of n and n is given by the user\n",
        "n = int(input(\"\\nEnter the number to print the table of: \"))\n",
        "print(f\"\\nTable of {n}:\")\n",
        "for i in range(1, 11):\n",
        "    print(f\"{n} x {i} = {n * i}\")\n",
        "\n",
        "# Assignment 4.3: WAP to add all the numbers from 1 to n and n is given by user\n",
        "n = int(input(\"\\nEnter a number n to add all the numbers from 1 to n: \"))\n",
        "sum_of_numbers = sum(range(1, n+1))\n",
        "print(f\"\\nSum of numbers from 1 to {n} is: {sum_of_numbers}\")\n"
      ]
    },
    {
      "cell_type": "markdown",
      "metadata": {
        "id": "PjPUiLzjcBtU"
      },
      "source": [
        "Assingment 5.1: WAP to find max amoung three numbers and input from user. [Try max() function]\n",
        "\n",
        "Assingment 5.2: WAP to add all numbers divisible by 7 and 9 from 1 to n and n is given by the user.\n",
        "\n",
        "Assingment 5.3: WAP to add all prime numbers from 1 to n and n is given by the user"
      ]
    },
    {
      "cell_type": "code",
      "execution_count": null,
      "metadata": {
        "id": "TcFfc70ScTpE"
      },
      "outputs": [],
      "source": [
        "# Assignment 5.1: WAP to find max among three numbers and input from user using max() function\n",
        "num1 = float(input(\"Enter the first number: \"))\n",
        "num2 = float(input(\"Enter the second number: \"))\n",
        "num3 = float(input(\"Enter the third number: \"))\n",
        "max_num = max(num1, num2, num3)\n",
        "print(f\"\\nThe maximum number among {num1}, {num2}, {num3} is: {max_num}\")\n",
        "\n",
        "# Assignment 5.2: WAP to add all numbers divisible by 7 and 9 from 1 to n and n is given by the user\n",
        "n = int(input(\"\\nEnter a number n to find numbers divisible by 7 and 9 from 1 to n: \"))\n",
        "sum_divisible_by_7_and_9 = 0\n",
        "for i in range(1, n + 1):\n",
        "    if i % 7 == 0 and i % 9 == 0:\n",
        "        sum_divisible_by_7_and_9 += i\n",
        "print(f\"\\nSum of numbers divisible by both 7 and 9 from 1 to {n} is: {sum_divisible_by_7_and_9}\")\n",
        "\n",
        "# Assignment 5.3: WAP to add all prime numbers from 1 to n and n is given by the user\n",
        "def is_prime(number):\n",
        "    if number <= 1:\n",
        "        return False\n",
        "    for i in range(2, int(number ** 0.5) + 1):\n",
        "        if number % i == 0:\n",
        "            return False\n",
        "    return True\n",
        "\n",
        "n = int(input(\"\\nEnter a number n to find sum of prime numbers from 1 to n: \"))\n",
        "sum_of_primes = 0\n",
        "for i in range(1, n + 1):\n",
        "    if is_prime(i):\n",
        "        sum_of_primes += i\n",
        "print(f\"\\nSum of prime numbers from 1 to {n} is: {sum_of_primes}\")\n"
      ]
    },
    {
      "cell_type": "markdown",
      "metadata": {
        "id": "UlDj2BJlco6R"
      },
      "source": [
        "Assingment 6.1: WAP using function that add all odd numbers from 1 to n, n is given by the user.\n",
        "\n",
        "Assingment 6.2: WAP using function that add all prime numbers from 1 to n, n given by the user."
      ]
    },
    {
      "cell_type": "code",
      "execution_count": 1,
      "metadata": {},
      "outputs": [
        {
          "name": "stdout",
          "output_type": "stream",
          "text": [
            "100\n",
            "77\n"
          ]
        }
      ],
      "source": [
        "#6.1\n",
        "def sum_of_odds(n):\n",
        "    total = 0\n",
        "    for x in range(1, n + 1):\n",
        "        if x % 2 != 0:\n",
        "            total += x\n",
        "    return total\n",
        "n = int(input(\"Enter a number: \"))\n",
        "print(sum_of_odds(n))\n",
        "\n",
        "#6.2\n",
        "def sum_of_primes(n):\n",
        "    def is_prime(num):\n",
        "        if num < 2:\n",
        "            return False\n",
        "        for i in range(2, num):\n",
        "            if num % i == 0:\n",
        "                return False\n",
        "        return True\n",
        "    total = 0\n",
        "    for x in range(1, n + 1):\n",
        "        if is_prime(x):\n",
        "            total += x\n",
        "    return total\n",
        "n = int(input(\"Enter a number: \"))\n",
        "print(sum_of_primes(n))"
      ]
    }
  ],
  "metadata": {
    "colab": {
      "provenance": []
    },
    "kernelspec": {
      "display_name": "Python 3",
      "name": "python3"
    },
    "language_info": {
      "codemirror_mode": {
        "name": "ipython",
        "version": 3
      },
      "file_extension": ".py",
      "mimetype": "text/x-python",
      "name": "python",
      "nbconvert_exporter": "python",
      "pygments_lexer": "ipython3",
      "version": "3.12.8"
    }
  },
  "nbformat": 4,
  "nbformat_minor": 0
}
