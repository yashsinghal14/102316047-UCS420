{
 "cells": [
  {
   "cell_type": "markdown",
   "metadata": {},
   "source": [
    "**Assignment 2 CC By Yash Singhal(102316047)**"
   ]
  },
  {
   "cell_type": "markdown",
   "metadata": {},
   "source": [
    "1. Create a List L that is defined as= [10, 20, 30, 40, 50, 60, 70, 80].\n",
    "i. WAP to add 200 and 300 to L.\n",
    "ii. WAP to remove 10 and 30 from L.\n",
    "iii. WAP to sort L in ascending order.\n",
    "iv. WAP to sort L in descending order."
   ]
  },
  {
   "cell_type": "code",
   "execution_count": 1,
   "metadata": {},
   "outputs": [
    {
     "name": "stdout",
     "output_type": "stream",
     "text": [
      "[10, 20, 30, 40, 50, 60, 70, 80, 200, 300]\n",
      "[20, 40, 50, 60, 70, 80]\n",
      "[10, 20, 30, 40, 50, 60, 70, 80]\n",
      "[80, 70, 60, 50, 40, 30, 20, 10]\n"
     ]
    }
   ],
   "source": [
    "#1.i\n",
    "L = [10, 20, 30, 40, 50, 60, 70, 80]\n",
    "L.append(200)\n",
    "L.append(300)\n",
    "print(L)\n",
    "\n",
    "#1.ii\n",
    "L = [10, 20, 30, 40, 50, 60, 70, 80]\n",
    "L.remove(10)\n",
    "L.remove(30)\n",
    "print(L)\n",
    "\n",
    "#1.iii\n",
    "L = [10, 20, 30, 40, 50, 60, 70, 80]\n",
    "L.sort()\n",
    "print(L)\n",
    "\n",
    "#1.iv\n",
    "L = [10, 20, 30, 40, 50, 60, 70, 80]\n",
    "L.sort(reverse=True)\n",
    "print(L)"
   ]
  },
  {
   "cell_type": "markdown",
   "metadata": {},
   "source": [
    "2. Create a tuple of marks scored as scores = (45, 89.5, 76, 45.4, 89, 92, 58, 45) and\n",
    "perform the following operations using tuple functions:\n",
    "i. Identify the highest score and its index in the tuple.\n",
    "ii. Find the lowest score and count how many times it appears.\n",
    "iii. Reverse the tuple and return it as a list.\n",
    "iv. Check if a specific score ‘76’ (input by the user) is present in the tuple and\n",
    "print its first occurrence index, or a message saying it’s not present."
   ]
  },
  {
   "cell_type": "code",
   "execution_count": 2,
   "metadata": {},
   "outputs": [
    {
     "name": "stdout",
     "output_type": "stream",
     "text": [
      "92 5\n",
      "45 2\n",
      "[45, 58, 92, 89, 45.4, 76, 89.5, 45]\n",
      "0\n"
     ]
    }
   ],
   "source": [
    "#2.i\n",
    "scores = (45, 89.5, 76, 45.4, 89, 92, 58, 45)\n",
    "max = max(scores)\n",
    "print(max, scores.index(max))\n",
    "\n",
    "#2.ii\n",
    "scores = (45, 89.5, 76, 45.4, 89, 92, 58, 45)\n",
    "min = min(scores)\n",
    "print(min, scores.count(min))\n",
    "\n",
    "#2.iii\n",
    "scores = (45, 89.5, 76, 45.4, 89, 92, 58, 45)\n",
    "reversed_scores = list(scores[::-1])\n",
    "print(reversed_scores)\n",
    "\n",
    "#2.iv\n",
    "scores = (45, 89.5, 76, 45.4, 89, 92, 58, 45)\n",
    "num = int(input(\"Enter a score to check: \"))\n",
    "if num in scores:\n",
    "    print(scores.index(num))\n",
    "else:\n",
    "    print(\"Not present\")"
   ]
  },
  {
   "cell_type": "markdown",
   "metadata": {},
   "source": [
    "3. WAP to create a list of 100 random numbers between 100 and 900. Count and print\n",
    "the:\n",
    "i. All odd numbers\n",
    "ii. All even numbers\n",
    "iii. All prime numbers"
   ]
  },
  {
   "cell_type": "code",
   "execution_count": 6,
   "metadata": {},
   "outputs": [
    {
     "name": "stdout",
     "output_type": "stream",
     "text": [
      "Odd numbers: [525, 735, 493, 775, 877, 751, 417, 603, 739, 713, 779, 537, 419, 511, 767, 795, 529, 429, 211, 777, 135, 117, 813, 725, 473, 417, 451, 291, 765, 681, 481, 109, 145, 281, 249, 373, 397, 839, 509, 237, 191, 497, 379, 207, 895, 787, 305]\n",
      "Even numbers: [140, 366, 596, 562, 130, 576, 224, 680, 264, 398, 134, 144, 786, 726, 668, 454, 684, 262, 638, 742, 568, 780, 858, 706, 620, 658, 670, 848, 244, 480, 386, 546, 814, 846, 110, 600, 554, 708, 788, 580, 294, 544, 452, 614, 156, 308, 318, 616, 352, 666, 204, 860, 564]\n",
      "Prime numbers: [877, 751, 739, 419, 211, 109, 281, 373, 397, 839, 509, 191, 379, 787]\n"
     ]
    }
   ],
   "source": [
    "#3.i\n",
    "import random\n",
    "numbers = [random.randint(100, 900) for _ in range(100)]\n",
    "odds = []\n",
    "evens = []\n",
    "primes = []\n",
    "for num in numbers:\n",
    "    if num % 2 != 0:\n",
    "        odds.append(num)\n",
    "    else:\n",
    "        evens.append(num)\n",
    "    is_prime = True\n",
    "    if num < 2:\n",
    "        is_prime = False\n",
    "    for i in range(2, int(num ** 0.5) + 1):\n",
    "        if num % i == 0:\n",
    "            is_prime = False\n",
    "            break\n",
    "    if is_prime:\n",
    "        primes.append(num)\n",
    "print(\"Odd numbers:\", odds)\n",
    "print(\"Even numbers:\", evens)\n",
    "print(\"Prime numbers:\", primes)"
   ]
  },
  {
   "cell_type": "markdown",
   "metadata": {},
   "source": [
    "4. Consider the following two sets, A and B, represenƟng scores of two teams in mulƟple\n",
    "matches. A = {34, 56, 78, 90} and B = {78, 45, 90, 23}\n",
    "WAP to perform the following operaƟons using set funcƟons:\n",
    "i. Find the unique scores achieved by both teams (union of sets).\n",
    "ii. IdenƟfy the scores that are common to both teams (intersecƟon of sets).\n",
    "iii. Find the scores that are exclusive to each team (symmetric difference).\n",
    "iv. Check if the scores of team A are a subset of team B, and if team B's scores are\n",
    "a superset of team A.\n",
    "v. Remove a specific score X (input by the user) from set A if it exists. If not, print\n",
    "a message saying it is not present."
   ]
  },
  {
   "cell_type": "code",
   "execution_count": 7,
   "metadata": {},
   "outputs": [
    {
     "name": "stdout",
     "output_type": "stream",
     "text": [
      "{34, 45, 78, 23, 56, 90}\n",
      "{90, 78}\n",
      "{34, 45, 23, 56}\n",
      "False\n",
      "False\n",
      "Not present in A\n"
     ]
    }
   ],
   "source": [
    "#4.i\n",
    "A = {34, 56, 78, 90}\n",
    "B = {78, 45, 90, 23}\n",
    "print(A.union(B))\n",
    "\n",
    "#4.ii\n",
    "A = {34, 56, 78, 90}\n",
    "B = {78, 45, 90, 23}\n",
    "print(A.intersection(B))\n",
    "\n",
    "#4.iii\n",
    "A = {34, 56, 78, 90}\n",
    "B = {78, 45, 90, 23}\n",
    "print(A.symmetric_difference(B))\n",
    "\n",
    "#4.iv\n",
    "A = {34, 56, 78, 90}\n",
    "B = {78, 45, 90, 23}\n",
    "print(A.issubset(B))\n",
    "print(B.issuperset(A))\n",
    "\n",
    "#4.v\n",
    "A = {34, 56, 78, 90}\n",
    "X = int(input(\"Enter a score to remove from A: \"))\n",
    "if X in A:\n",
    "    A.remove(X)\n",
    "    print(A)\n",
    "else:\n",
    "    print(\"Not present in A\")\n"
   ]
  },
  {
   "cell_type": "markdown",
   "metadata": {},
   "source": [
    "5. Write a program to rename a key city to a locaƟon in the following dicƟonary.\n",
    "   Given\n",
    "   sample_dict = {\n",
    "    \"name\": \"Kelly\",\n",
    "    \"age\": 25,\n",
    "    \"salary\": 8000,\n",
    "    \"city\": \"New York\"\n",
    "    }\n",
    "    Expected Output\n",
    "    {'name': 'Kelly', 'age': 25, 'salary': 8000, 'location': 'New York'}"
   ]
  },
  {
   "cell_type": "code",
   "execution_count": 8,
   "metadata": {},
   "outputs": [
    {
     "name": "stdout",
     "output_type": "stream",
     "text": [
      "{'name': 'Kelly', 'age': 25, 'salary': 8000, 'location': 'New York'}\n"
     ]
    }
   ],
   "source": [
    "sample_dict = {\n",
    "    \"name\": \"Kelly\",\n",
    "    \"age\": 25,\n",
    "    \"salary\": 8000,\n",
    "    \"city\": \"New York\"\n",
    "}\n",
    "sample_dict[\"location\"] = sample_dict.pop(\"city\")\n",
    "print(sample_dict)"
   ]
  }
 ],
 "metadata": {
  "kernelspec": {
   "display_name": "Python 3",
   "language": "python",
   "name": "python3"
  },
  "language_info": {
   "codemirror_mode": {
    "name": "ipython",
    "version": 3
   },
   "file_extension": ".py",
   "mimetype": "text/x-python",
   "name": "python",
   "nbconvert_exporter": "python",
   "pygments_lexer": "ipython3",
   "version": "3.12.8"
  }
 },
 "nbformat": 4,
 "nbformat_minor": 2
}
